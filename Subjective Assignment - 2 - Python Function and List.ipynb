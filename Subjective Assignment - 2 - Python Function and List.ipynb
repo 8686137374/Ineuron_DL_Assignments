{
 "cells": [
  {
   "cell_type": "markdown",
   "metadata": {},
   "source": [
    "# Assignments"
   ]
  },
  {
   "cell_type": "markdown",
   "metadata": {},
   "source": [
    "Q1. Write the Python function to get a string made of 4 copies of the last\n",
    "two characters of the specified string (length must be at least 2).\n",
    "\n",
    "    Sample function and result :\n",
    "    insert-end ('Python') -> abababab\n",
    "    insert-end('Exercises') -> jkjkjkjk"
   ]
  },
  {
   "cell_type": "code",
   "execution_count": 18,
   "metadata": {},
   "outputs": [
    {
     "name": "stdout",
     "output_type": "stream",
     "text": [
      "onononon\n"
     ]
    }
   ],
   "source": [
    "def insertEnd(x):\n",
    "    try:\n",
    "        if len(x)>2:\n",
    "            return x[-2:]*4\n",
    "        else:\n",
    "            raise ValueError(\"Error:Entered shorter string\")\n",
    "    except:\n",
    "        return ValueError\n",
    "print(insertEnd(\"python\"))"
   ]
  },
  {
   "cell_type": "markdown",
   "metadata": {},
   "source": [
    "Q2. Write the python function to get a string made of its first three\n",
    "characters of a specified string. If the length of the string is less than 3\n",
    "then return the original string.\n",
    "    \n",
    "    Sample function and result :\n",
    "    first-three('ipy') -> ipy\n",
    "    first-three('python') -> pyt"
   ]
  },
  {
   "cell_type": "code",
   "execution_count": 21,
   "metadata": {},
   "outputs": [
    {
     "name": "stdout",
     "output_type": "stream",
     "text": [
      "pyt\n"
     ]
    }
   ],
   "source": [
    "def firstThree(x):\n",
    "    if len(x)>3:\n",
    "        return x[:3]\n",
    "    else:\n",
    "        return x\n",
    "print(firstThree(\"python\"))"
   ]
  },
  {
   "cell_type": "markdown",
   "metadata": {},
   "source": [
    "Q3. Write the Python program to find smallest window that contains all\n",
    "characters of the given string?\n",
    "\n",
    "    Original Strings:\n",
    "    asdaewsqgtwwsa\n",
    "    Smallest window that contains all characters of the said string:\n",
    "    Daewsqgt"
   ]
  },
  {
   "cell_type": "code",
   "execution_count": 62,
   "metadata": {
    "scrolled": true
   },
   "outputs": [
    {
     "name": "stdout",
     "output_type": "stream",
     "text": [
      "Qasdgtwe\n"
     ]
    }
   ],
   "source": [
    "x = set(\"asdaewsqgtwwsa\")\n",
    "\n",
    "y = \"\".join(i for i in x)\n",
    "y = y.capitalize()\n",
    "print(y)"
   ]
  },
  {
   "cell_type": "markdown",
   "metadata": {},
   "source": [
    "Q4. Write the Python program to count number of substrings from a\n",
    "given string of lowercase alphabets with exactly k distinct (given)\n",
    "characters?\n",
    "\n",
    "    Input a string (lowercase alphabets): wolf\n",
    "    Input k: 4\n",
    "    Number of substrings with exactly 4 distinct characters: 1"
   ]
  },
  {
   "cell_type": "code",
   "execution_count": 38,
   "metadata": {},
   "outputs": [
    {
     "name": "stdout",
     "output_type": "stream",
     "text": [
      "1\n"
     ]
    }
   ],
   "source": [
    "def countKdist(s,k):\n",
    "    n = len(s)\n",
    "    cnt = 0\n",
    "    for i in range(n):\n",
    "        for j in range(i,n+1):\n",
    "            st = set(s[i:j])\n",
    "            if len(st) == k:\n",
    "                cnt += 1\n",
    "    return cnt\n",
    "print(countKdist(\"wolf\",4))"
   ]
  },
  {
   "cell_type": "markdown",
   "metadata": {},
   "source": [
    "Q5. Write the Python program to count number of non-empty\n",
    "substrings of the given string?\n",
    "\n",
    "    Input a string: w3resource\n",
    "    Number of substrings:\n",
    "    55"
   ]
  },
  {
   "cell_type": "code",
   "execution_count": 44,
   "metadata": {},
   "outputs": [
    {
     "name": "stdout",
     "output_type": "stream",
     "text": [
      "55\n"
     ]
    }
   ],
   "source": [
    "def subStrings(s):\n",
    "    n = len(s)\n",
    "    cnt = 0\n",
    "    for i in range(n):\n",
    "        for j in range(i,n):\n",
    "            st = set(s[i:j])\n",
    "            cnt += 1\n",
    "    return cnt\n",
    "print(subStrings(\"w3resource\"))"
   ]
  },
  {
   "cell_type": "markdown",
   "metadata": {},
   "source": [
    "Q6. Write the Python program to count the number of strings where the\n",
    "string length is 2 or more, and first and last character are same\n",
    "from a given list of strings.\n",
    "\n",
    "    Sample List : ['abc', 'xyz', 'wxw', '1331']\n",
    "    Expected Result: 2"
   ]
  },
  {
   "cell_type": "code",
   "execution_count": 62,
   "metadata": {},
   "outputs": [
    {
     "name": "stdout",
     "output_type": "stream",
     "text": [
      "3\n"
     ]
    }
   ],
   "source": [
    "def stringLength(lst):\n",
    "    cnt = 0\n",
    "    for i in lst:\n",
    "        if i[0]==i[-1] and len(i)>2:\n",
    "            cnt+=1\n",
    "    return cnt\n",
    "print(stringLength(['abc', 'xyz', 'wxw', '1331',\"madam\"]))\n",
    "            \n",
    "    "
   ]
  },
  {
   "cell_type": "markdown",
   "metadata": {},
   "source": [
    "Q7. Write the Python program to get a list, sorted in increasing order by\n",
    "the last element in each tuple from the given list of non-empty\n",
    "tuples?\n",
    "\n",
    "    Sample List - [ (2, 5), (1, 2), (4, 4), (2, 3), (2, 1) ]\n",
    "    Expected Result - [ (2, 1), (1, 2), (2, 3), (4, 4), (2, 5) ]"
   ]
  },
  {
   "cell_type": "code",
   "execution_count": 83,
   "metadata": {},
   "outputs": [
    {
     "name": "stdout",
     "output_type": "stream",
     "text": [
      "[(2, 1), (1, 2), (2, 3), (4, 4), (2, 5)]\n"
     ]
    }
   ],
   "source": [
    "def sortedTuple(lst):\n",
    "    x = sorted(lst, key= lambda y:y[-1])\n",
    "    return x\n",
    "print(sortedTuple([ (2, 5), (1, 2), (4, 4), (2, 3), (2, 1) ]))"
   ]
  },
  {
   "cell_type": "markdown",
   "metadata": {},
   "source": [
    "Q8. Write the Python program to remove duplicates from a list?"
   ]
  },
  {
   "cell_type": "code",
   "execution_count": 3,
   "metadata": {},
   "outputs": [
    {
     "data": {
      "text/plain": [
       "[65, 2, 3, 4, 5, 6, 7, 33]"
      ]
     },
     "execution_count": 3,
     "metadata": {},
     "output_type": "execute_result"
    }
   ],
   "source": [
    "x = [2,3,5,3,2,5,6,2,3,6,4,65,7,33,2]\n",
    "\n",
    "x = set(x)\n",
    "x = list(x)\n",
    "\n",
    "x"
   ]
  },
  {
   "cell_type": "markdown",
   "metadata": {},
   "source": [
    "Q9. Write the Python program to find the list of words that are longer\n",
    "than n from a given list of words?"
   ]
  },
  {
   "cell_type": "code",
   "execution_count": 6,
   "metadata": {},
   "outputs": [
    {
     "name": "stdout",
     "output_type": "stream",
     "text": [
      "['1331', 'madam']\n"
     ]
    }
   ],
   "source": [
    "def stringLength(lst,n):\n",
    "    cnt = 0\n",
    "    l = []\n",
    "    for i in lst:\n",
    "        if len(i)>n:\n",
    "            l.append(i)\n",
    "    return l\n",
    "print(stringLength(['abc', 'xyz', 'wxw', '1331',\"madam\"],3))"
   ]
  },
  {
   "cell_type": "markdown",
   "metadata": {},
   "source": [
    "Q10. Write the Python program to print a specified list after removing the\n",
    "0th, 4th, and 5th elements?\n",
    "    \n",
    "    Sample List - ['Red', 'Green', 'White', 'Black', 'Pink', 'Yellow']\n",
    "    Expected Output - ['Green', 'White', 'Black']"
   ]
  },
  {
   "cell_type": "code",
   "execution_count": 52,
   "metadata": {},
   "outputs": [
    {
     "name": "stdout",
     "output_type": "stream",
     "text": [
      "['Green', 'White', 'Black']\n"
     ]
    }
   ],
   "source": [
    "x = ['Red', 'Green', 'White', 'Black', 'Pink', 'Yellow']\n",
    "l=[]\n",
    "for (i,j) in enumerate(x):\n",
    "    if i not in (0,4,5):\n",
    "        l.append(j)\n",
    "print(l)\n",
    "        "
   ]
  },
  {
   "cell_type": "markdown",
   "metadata": {},
   "source": [
    "Q11. Write the Python program to generate all permutations of a list in\n",
    "Python?"
   ]
  },
  {
   "cell_type": "code",
   "execution_count": 58,
   "metadata": {},
   "outputs": [
    {
     "name": "stdout",
     "output_type": "stream",
     "text": [
      "[(4, 6, 8), (4, 8, 6), (6, 4, 8), (6, 8, 4), (8, 4, 6), (8, 6, 4)]\n"
     ]
    }
   ],
   "source": [
    "from itertools import permutations\n",
    "x = list(permutations([4,6,8]))\n",
    "print(x)"
   ]
  },
  {
   "cell_type": "markdown",
   "metadata": {},
   "source": [
    "Q12. Write the Python program to convert a pair of values into a sorted\n",
    "unique array?\n",
    " \n",
    "    Original List- [ (1, 2), (3, 4), (1, 2), (5, 6), (7, 8), (1, 2), (3, 4), (3, 4), (7, 8), (9, 10) ]\n",
    "    Sorted Unique Data- [ 1, 2, 3, 4, 5, 6, 7, 8, 9, 10 ] \n"
   ]
  },
  {
   "cell_type": "code",
   "execution_count": 79,
   "metadata": {},
   "outputs": [
    {
     "data": {
      "text/plain": [
       "[1, 2, 3, 4, 5, 6, 7, 8, 9, 10]"
      ]
     },
     "execution_count": 79,
     "metadata": {},
     "output_type": "execute_result"
    }
   ],
   "source": [
    "x = [ (1, 2), (3, 4), (1, 2), (5, 6), (7, 8), (1, 2), (3, 4), (3, 4), (7, 8), (9, 10) ]\n",
    "x = list(set().union(*x))\n",
    "x"
   ]
  },
  {
   "cell_type": "markdown",
   "metadata": {},
   "source": [
    "## Great job!"
   ]
  }
 ],
 "metadata": {
  "kernelspec": {
   "display_name": "Python 3",
   "language": "python",
   "name": "python3"
  },
  "language_info": {
   "codemirror_mode": {
    "name": "ipython",
    "version": 3
   },
   "file_extension": ".py",
   "mimetype": "text/x-python",
   "name": "python",
   "nbconvert_exporter": "python",
   "pygments_lexer": "ipython3",
   "version": "3.7.6"
  }
 },
 "nbformat": 4,
 "nbformat_minor": 2
}
